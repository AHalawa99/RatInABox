{
 "cells": [
  {
   "cell_type": "markdown",
   "metadata": {},
   "source": [
    "# Case study: Path Integration\n",
    "### We use RatInABox to built a network capable of learning to path integrate in 1D using local learning rules"
   ]
  },
  {
   "cell_type": "code",
   "execution_count": 1,
   "metadata": {},
   "outputs": [],
   "source": [
    "#Import ratinabox\n",
    "sys.path.append('../')\n",
    "from ratinabox import *\n",
    "\n",
    "from tqdm import tqdm"
   ]
  },
  {
   "cell_type": "markdown",
   "metadata": {},
   "source": [
    "## Path Integration"
   ]
  },
  {
   "cell_type": "markdown",
   "metadata": {},
   "source": [
    "This work is closely related to the work done by [Vafidis et al. (2021)](https://www.biorxiv.org/content/10.1101/2021.03.12.435035v1). Although the specific details of our learning rules, parameter setting and arcitecture are all slightly different we do not claim this work to be novel, rather include it as a demonstraion of what is possible using `RatInABox`.\n",
    " "
   ]
  },
  {
   "cell_type": "markdown",
   "metadata": {},
   "source": [
    "### Disclaimer: \n",
    "Please note this script is intended as a tutorial/demonstraion of how `RatInABox` could be used for a path integration project in continuous time and space and **not** as a scientific result regarding the role of hippocampus/entorhinal cortex role in path integration. "
   ]
  }
 ],
 "metadata": {
  "interpreter": {
   "hash": "f3cdbb439150f468ef73eca921e462ba1cf0894f575003150b1b7f3566c8fd4a"
  },
  "kernelspec": {
   "display_name": "Python 3.9.7 ('base')",
   "language": "python",
   "name": "python3"
  },
  "language_info": {
   "codemirror_mode": {
    "name": "ipython",
    "version": 3
   },
   "file_extension": ".py",
   "mimetype": "text/x-python",
   "name": "python",
   "nbconvert_exporter": "python",
   "pygments_lexer": "ipython3",
   "version": "3.9.7"
  },
  "orig_nbformat": 4
 },
 "nbformat": 4,
 "nbformat_minor": 2
}
